{
 "cells": [
  {
   "cell_type": "markdown",
   "metadata": {},
   "source": [
    "# Работа с тензорами в numpy\n",
    "### https://numpy.org/\n",
    "### Быстрый старт: https://numpy.org/devdocs/user/quickstart.html"
   ]
  },
  {
   "cell_type": "code",
   "execution_count": 1,
   "metadata": {},
   "outputs": [
    {
     "name": "stdout",
     "output_type": "stream",
     "text": [
      "[1 2 3 4]\n"
     ]
    }
   ],
   "source": [
    "import numpy as np\n",
    "a = np.array([1,2,3,4])\n",
    "print(a)"
   ]
  },
  {
   "cell_type": "code",
   "execution_count": 2,
   "metadata": {},
   "outputs": [
    {
     "name": "stdout",
     "output_type": "stream",
     "text": [
      "[0 1 2 3]\n"
     ]
    }
   ],
   "source": [
    "b = np.array([0,1,2,3])\n",
    "print(b)"
   ]
  },
  {
   "cell_type": "code",
   "execution_count": 3,
   "metadata": {},
   "outputs": [
    {
     "name": "stdout",
     "output_type": "stream",
     "text": [
      "a*b=[ 0  2  6 12]\n",
      "a+b=[1 3 5 7]\n"
     ]
    }
   ],
   "source": [
    "print(f\"a*b={a*b}\")\n",
    "print(f\"a+b={a+b}\")"
   ]
  },
  {
   "cell_type": "code",
   "execution_count": 4,
   "metadata": {},
   "outputs": [],
   "source": [
    "def dot(x,y):\n",
    "    y = 0.0\n",
    "    for i in range(len(x)):\n",
    "        y = y + x[i]*y[i]\n",
    "    return y"
   ]
  },
  {
   "cell_type": "code",
   "execution_count": 5,
   "metadata": {},
   "outputs": [
    {
     "name": "stdout",
     "output_type": "stream",
     "text": [
      "20\n",
      "20\n"
     ]
    }
   ],
   "source": [
    "print(np.dot(a,b))\n",
    "print(np.sum(a*b))"
   ]
  },
  {
   "cell_type": "code",
   "execution_count": 6,
   "metadata": {},
   "outputs": [
    {
     "data": {
      "text/plain": [
       "array([30, 40])"
      ]
     },
     "execution_count": 6,
     "metadata": {},
     "output_type": "execute_result"
    }
   ],
   "source": [
    "c = np.array([[1,2,3,4], [2,3,4,5]])\n",
    "np.dot(c,a)"
   ]
  },
  {
   "cell_type": "code",
   "execution_count": 7,
   "metadata": {},
   "outputs": [
    {
     "name": "stdout",
     "output_type": "stream",
     "text": [
      "f(1)=0.7310585786300049\n",
      "f(2)=0.8807970779778823\n",
      "f(3)=0.9525741268224334\n",
      "f(4)=0.9820137900379085\n"
     ]
    }
   ],
   "source": [
    "import math\n",
    "\n",
    "def sigmoid(z):\n",
    "    return 1/(1+math.exp(-z))\n",
    "\n",
    "for x in range(0,4):\n",
    "    print(f\"f({a[x]})={sigmoid(a[x])}\")"
   ]
  },
  {
   "cell_type": "code",
   "execution_count": 14,
   "metadata": {},
   "outputs": [
    {
     "name": "stdout",
     "output_type": "stream",
     "text": [
      "[0.73105858 0.88079708 0.95257413 0.98201379]\n",
      "[1, 2, 3, 4]\n"
     ]
    }
   ],
   "source": [
    "sigmoid_v = np.vectorize(sigmoid)\n",
    "result = sigmoid_v(a)\n",
    "print(result)\n",
    "print([1,2,3,4])"
   ]
  },
  {
   "cell_type": "code",
   "execution_count": 17,
   "metadata": {},
   "outputs": [
    {
     "name": "stdout",
     "output_type": "stream",
     "text": [
      "x1.W1=[11  5 -3]\n",
      "f(x1.W1)=[0.9999833  0.99330715 0.04742587]\n"
     ]
    }
   ],
   "source": [
    "W1 = np.array([\n",
    "    [0, 1, 2],\n",
    "    [3, 2, 1],\n",
    "    [2, 1,-2]\n",
    "])\n",
    "x1 = np.array([-2,3,1])\n",
    "z = np.dot(x1,W1)\n",
    "print(f\"x1.W1={z}\")\n",
    "y1 = sigmoid_v(z)\n",
    "print(f\"f(x1.W1)={y1}\")"
   ]
  },
  {
   "cell_type": "code",
   "execution_count": 18,
   "metadata": {},
   "outputs": [
    {
     "name": "stdout",
     "output_type": "stream",
     "text": [
      "f(y1.W2)=[0.24945685 0.73899142]\n"
     ]
    }
   ],
   "source": [
    "W2 = np.array([\n",
    "    [-2, 0],\n",
    "    [1,  1],\n",
    "    [-2, 1]\n",
    "])\n",
    "y2 = sigmoid_v(np.dot(y1,W2))\n",
    "print(f\"f(y1.W2)={y2}\")"
   ]
  },
  {
   "cell_type": "code",
   "execution_count": 21,
   "metadata": {},
   "outputs": [
    {
     "name": "stdout",
     "output_type": "stream",
     "text": [
      "f(y1.W2)=[0.18099001 0.65307645]\n"
     ]
    }
   ],
   "source": [
    "W2 = W2 - 0.1\n",
    "y2 = sigmoid_v(np.dot(y1,W2))\n",
    "print(f\"f(y1.W2)={y2}\")"
   ]
  },
  {
   "cell_type": "code",
   "execution_count": 22,
   "metadata": {},
   "outputs": [
    {
     "data": {
      "text/plain": [
       "0.1531133326564662"
      ]
     },
     "execution_count": 22,
     "metadata": {},
     "output_type": "execute_result"
    }
   ],
   "source": [
    "y_true = np.array([0.0, 1.0])\n",
    "error = np.sum(np.square(y_true-y2))\n",
    "error"
   ]
  },
  {
   "cell_type": "code",
   "execution_count": null,
   "metadata": {},
   "outputs": [],
   "source": []
  }
 ],
 "metadata": {
  "interpreter": {
   "hash": "ae7f53e8dd80b02e0612f72962c8cfdaf11ca92c079bdaddd1482a56edc14533"
  },
  "kernelspec": {
   "display_name": "Python 3.8.3 64-bit",
   "name": "python3"
  },
  "language_info": {
   "codemirror_mode": {
    "name": "ipython",
    "version": 3
   },
   "file_extension": ".py",
   "mimetype": "text/x-python",
   "name": "python",
   "nbconvert_exporter": "python",
   "pygments_lexer": "ipython3",
   "version": "3.8.3"
  },
  "orig_nbformat": 2
 },
 "nbformat": 4,
 "nbformat_minor": 2
}
