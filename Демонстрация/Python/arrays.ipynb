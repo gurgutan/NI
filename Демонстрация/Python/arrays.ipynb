{
 "cells": [
  {
   "cell_type": "markdown",
   "metadata": {},
   "source": [
    "# Работа с тензорами в numpy\n",
    "### https://numpy.org/\n",
    "### Быстрый старт: https://numpy.org/devdocs/user/quickstart.html"
   ]
  },
  {
   "cell_type": "code",
   "execution_count": 1,
   "metadata": {},
   "outputs": [
    {
     "name": "stdout",
     "output_type": "stream",
     "text": [
      "[1 2 3 4]\n"
     ]
    }
   ],
   "source": [
    "import numpy as np\n",
    "a = np.array([1,2,3,4])\n",
    "print(a)"
   ]
  },
  {
   "cell_type": "code",
   "execution_count": 2,
   "metadata": {},
   "outputs": [
    {
     "name": "stdout",
     "output_type": "stream",
     "text": [
      "[0 1 2 3]\n"
     ]
    }
   ],
   "source": [
    "b = np.array([0,1,2,3])\n",
    "print(b)"
   ]
  },
  {
   "cell_type": "code",
   "execution_count": 3,
   "metadata": {},
   "outputs": [
    {
     "name": "stdout",
     "output_type": "stream",
     "text": [
      "a*b=[ 0  2  6 12]\n",
      "a+b=[1 3 5 7]\n"
     ]
    }
   ],
   "source": [
    "print(f\"a*b={a*b}\")\n",
    "print(f\"a+b={a+b}\")"
   ]
  },
  {
   "cell_type": "code",
   "execution_count": 4,
   "metadata": {},
   "outputs": [],
   "source": [
    "def dot(x,y):\n",
    "    y = 0.0\n",
    "    for i in range(len(x)):\n",
    "        y = y + x[i]*y[i]\n",
    "    return y"
   ]
  },
  {
   "cell_type": "code",
   "execution_count": 6,
   "metadata": {},
   "outputs": [
    {
     "name": "stdout",
     "output_type": "stream",
     "text": [
      "20\n",
      "20\n"
     ]
    }
   ],
   "source": [
    "print(np.dot(a,b))\n",
    "print(np.sum(a*b))"
   ]
  },
  {
   "cell_type": "code",
   "execution_count": 7,
   "metadata": {},
   "outputs": [
    {
     "data": {
      "text/plain": [
       "array([30, 40])"
      ]
     },
     "execution_count": 7,
     "metadata": {},
     "output_type": "execute_result"
    }
   ],
   "source": [
    "c = np.array([[1,2,3,4], [2,3,4,5]])\n",
    "np.dot(c,a)"
   ]
  },
  {
   "cell_type": "code",
   "execution_count": 8,
   "metadata": {},
   "outputs": [
    {
     "name": "stdout",
     "output_type": "stream",
     "text": [
      "f(1)=0.7310585786300049\n",
      "f(2)=0.8807970779778823\n",
      "f(3)=0.9525741268224334\n",
      "f(4)=0.9820137900379085\n"
     ]
    }
   ],
   "source": [
    "import math\n",
    "\n",
    "def sigmoid(z):\n",
    "    return 1/(1+math.exp(-z))\n",
    "\n",
    "for x in range(0,4):\n",
    "    print(f\"f({a[x]})={sigmoid(a[x])}\")"
   ]
  },
  {
   "cell_type": "code",
   "execution_count": 10,
   "metadata": {},
   "outputs": [
    {
     "name": "stdout",
     "output_type": "stream",
     "text": [
      "[1 2 3 4]\n",
      "[0.73105858 0.88079708 0.95257413 0.98201379]\n"
     ]
    }
   ],
   "source": [
    "sigmoid_v = np.vectorize(sigmoid)\n",
    "print(a)\n",
    "result = sigmoid_v(a)\n",
    "print(result)\n"
   ]
  },
  {
   "cell_type": "code",
   "execution_count": 11,
   "metadata": {},
   "outputs": [
    {
     "name": "stdout",
     "output_type": "stream",
     "text": [
      "x1.W1=[11  5 -3]\n",
      "sigmoid(x1.W1)=[0.9999833  0.99330715 0.04742587]\n"
     ]
    }
   ],
   "source": [
    "W1 = np.array(\n",
    "[\n",
    "    [0, 1, 2],\n",
    "    [3, 2, 1],\n",
    "    [2, 1,-2]\n",
    "])\n",
    "x1 = np.array([-2,3,1])\n",
    "z = np.dot(x1,W1)\n",
    "print(f\"x1.W1={z}\")\n",
    "y1 = sigmoid_v(z)\n",
    "print(f\"sigmoid(x1.W1)={y1}\")"
   ]
  },
  {
   "cell_type": "code",
   "execution_count": 13,
   "metadata": {},
   "outputs": [
    {
     "name": "stdout",
     "output_type": "stream",
     "text": [
      "f(y1.W2)=[0.24945685 0.73899142]\n"
     ]
    }
   ],
   "source": [
    "W2 = np.array([\n",
    "    [-2, 0],\n",
    "    [1,  1],\n",
    "    [-2, 1]\n",
    "])\n",
    "y2 = sigmoid_v(np.dot(y1,W2))\n",
    "print(f\"f(y1.W2)={y2}\")"
   ]
  },
  {
   "cell_type": "code",
   "execution_count": 18,
   "metadata": {},
   "outputs": [
    {
     "data": {
      "text/plain": [
       "(4,)"
      ]
     },
     "execution_count": 18,
     "metadata": {},
     "output_type": "execute_result"
    }
   ],
   "source": [
    "a.shape"
   ]
  },
  {
   "cell_type": "code",
   "execution_count": 19,
   "metadata": {},
   "outputs": [
    {
     "ename": "ValueError",
     "evalue": "operands could not be broadcast together with shapes (3,2) (4,) ",
     "output_type": "error",
     "traceback": [
      "\u001b[1;31m---------------------------------------------------------------------------\u001b[0m",
      "\u001b[1;31mValueError\u001b[0m                                Traceback (most recent call last)",
      "\u001b[1;32m<ipython-input-19-c038aa004611>\u001b[0m in \u001b[0;36m<module>\u001b[1;34m\u001b[0m\n\u001b[1;32m----> 1\u001b[1;33m \u001b[0mW2\u001b[0m\u001b[1;33m=\u001b[0m\u001b[0mW2\u001b[0m\u001b[1;33m-\u001b[0m\u001b[0ma\u001b[0m\u001b[1;33m\u001b[0m\u001b[1;33m\u001b[0m\u001b[0m\n\u001b[0m\u001b[0;32m      2\u001b[0m \u001b[0mprint\u001b[0m\u001b[1;33m(\u001b[0m\u001b[0mW2\u001b[0m\u001b[1;33m)\u001b[0m\u001b[1;33m\u001b[0m\u001b[1;33m\u001b[0m\u001b[0m\n",
      "\u001b[1;31mValueError\u001b[0m: operands could not be broadcast together with shapes (3,2) (4,) "
     ]
    }
   ],
   "source": [
    "W2=W2-a\n",
    "print(W2)"
   ]
  },
  {
   "cell_type": "code",
   "execution_count": 14,
   "metadata": {},
   "outputs": [
    {
     "name": "stdout",
     "output_type": "stream",
     "text": [
      "f(y1.W2)=[0.21322694 0.6977616 ]\n"
     ]
    }
   ],
   "source": [
    "W2 = W2 - 0.1\n",
    "y2 = sigmoid_v(np.dot(y1,W2))\n",
    "print(f\"f(y1.W2)={y2}\")"
   ]
  },
  {
   "cell_type": "code",
   "execution_count": 13,
   "metadata": {},
   "outputs": [
    {
     "data": {
      "text/plain": [
       "0.13681377620455265"
      ]
     },
     "execution_count": 13,
     "metadata": {},
     "output_type": "execute_result"
    }
   ],
   "source": [
    "y_true = np.array([0.0, 1.0])\n",
    "error = np.sum(np.square(y_true-y2))\n",
    "error"
   ]
  },
  {
   "cell_type": "code",
   "execution_count": null,
   "metadata": {},
   "outputs": [],
   "source": []
  }
 ],
 "metadata": {
  "kernelspec": {
   "display_name": "Python 3.8.3 64-bit",
   "language": "python",
   "name": "python3"
  },
  "language_info": {
   "codemirror_mode": {
    "name": "ipython",
    "version": 3
   },
   "file_extension": ".py",
   "mimetype": "text/x-python",
   "name": "python",
   "nbconvert_exporter": "python",
   "pygments_lexer": "ipython3",
   "version": "3.8.3"
  },
  "orig_nbformat": 2,
  "vscode": {
   "interpreter": {
    "hash": "9271dc942db219bb6694851cfc44c6a60c393a65a23d2e4baaba291b7197d5f4"
   }
  }
 },
 "nbformat": 4,
 "nbformat_minor": 2
}
