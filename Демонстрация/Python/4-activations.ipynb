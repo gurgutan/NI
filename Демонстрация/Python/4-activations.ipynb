{
 "cells": [
  {
   "cell_type": "code",
   "execution_count": 21,
   "metadata": {},
   "outputs": [],
   "source": [
    "import numpy as np\n",
    "import torch\n"
   ]
  },
  {
   "cell_type": "code",
   "execution_count": 4,
   "metadata": {},
   "outputs": [],
   "source": [
    "# Общий вид реализации функций активации\n",
    "def sigmoid(x: torch.float32) -> torch.float32:\n",
    "    \"\"\"Функция для вычисления прямого прохода\"\"\"\n",
    "    pass\n",
    "\n",
    "def d_sigmoid(x: torch.float32, y: torch.float32) -> torch.float32:\n",
    "    \"\"\"Функция для вычисления обратного прохода\"\"\"\n",
    "    pass"
   ]
  },
  {
   "cell_type": "code",
   "execution_count": 22,
   "metadata": {},
   "outputs": [],
   "source": [
    "import math\n",
    "\n",
    "class Sigmoid(object):\n",
    "    def __init__(self, a: float):\n",
    "        self.a = a\n",
    "        self.y = None\n",
    "        self.F = np.vectorize(self.forward)        \n",
    "\n",
    "    def __call__(self, x):\n",
    "        \"\"\"Функция для вычисления прямого прохода\"\"\"\n",
    "        self.y = self.F(x)\n",
    "        return self.y\n",
    "\n",
    "    def forward(self, x):\n",
    "        y = 1/(1+math.exp(-x*self.a))\n",
    "        return y\n",
    "\n",
    "    def D(self):\n",
    "        \"\"\"Функция для вычисления обратного прохода\"\"\"\n",
    "        assert self.y is not None, \"ыовраоыврало\"\n",
    "        return self.y*(1-self.y)\n",
    "\n"
   ]
  },
  {
   "cell_type": "code",
   "execution_count": 23,
   "metadata": {},
   "outputs": [
    {
     "name": "stdout",
     "output_type": "stream",
     "text": [
      "[0.73105858 0.88079708 0.95257413 0.98201379]\n",
      "[0.19661193 0.10499359 0.04517666 0.01766271]\n"
     ]
    }
   ],
   "source": [
    "f = Sigmoid(1)\n",
    "a = np.array([1,2,3,4])\n",
    "print(f(a))\n",
    "print(f.D())"
   ]
  },
  {
   "cell_type": "code",
   "execution_count": 19,
   "metadata": {},
   "outputs": [
    {
     "name": "stdout",
     "output_type": "stream",
     "text": [
      "x1=[-2  3  1]\n",
      "x1.W1=[11  5 -3]\n",
      "sigmoid(x1.W1)=[0.9999833  0.99330715 0.04742587]\n",
      "Dy/Dx=[1.67011429e-05 6.64805667e-03 4.51766597e-02]\n"
     ]
    }
   ],
   "source": [
    "W1 = np.array(\n",
    "[\n",
    "    [0, 1, 2],\n",
    "    [3, 2, 1],\n",
    "    [2, 1,-2]\n",
    "])\n",
    "x1 = np.array([-2,3,1])\n",
    "z = np.dot(x1,W1)\n",
    "print(f\"x1={x1}\")\n",
    "print(f\"x1.W1={z}\")\n",
    "y1 = f(z)\n",
    "dydx = f.D()\n",
    "print(f\"sigmoid(x1.W1)={y1}\")\n",
    "print(f\"Dy/Dx={dydx}\")"
   ]
  },
  {
   "cell_type": "code",
   "execution_count": 20,
   "metadata": {},
   "outputs": [
    {
     "name": "stdout",
     "output_type": "stream",
     "text": [
      "f2(y1.W2)=[0.24945685 0.73899142]\n"
     ]
    }
   ],
   "source": [
    "W2 = np.array([\n",
    "    [-2, 0],\n",
    "    [1,  1],\n",
    "    [-2, 1]\n",
    "])\n",
    "f2 = Sigmoid(1)\n",
    "y2 = f2(np.dot(y1,W2))\n",
    "print(f\"f2(y1.W2)={y2}\")"
   ]
  },
  {
   "cell_type": "code",
   "execution_count": null,
   "metadata": {},
   "outputs": [],
   "source": [
    "W2 = W2 - 0.1\n",
    "y2 = f2(np.dot(y1,W2))\n",
    "print(f\"f(y1.W2)={y2}\")"
   ]
  },
  {
   "cell_type": "code",
   "execution_count": null,
   "metadata": {},
   "outputs": [],
   "source": [
    "y_true = np.array([0.0, 1.0])\n",
    "error = np.sum(np.square(y_true-y2))\n",
    "error"
   ]
  }
 ],
 "metadata": {
  "kernelspec": {
   "display_name": "Python 3.8.3 64-bit",
   "language": "python",
   "name": "python3"
  },
  "language_info": {
   "codemirror_mode": {
    "name": "ipython",
    "version": 3
   },
   "file_extension": ".py",
   "mimetype": "text/x-python",
   "name": "python",
   "nbconvert_exporter": "python",
   "pygments_lexer": "ipython3",
   "version": "3.8.3"
  },
  "orig_nbformat": 4,
  "vscode": {
   "interpreter": {
    "hash": "9271dc942db219bb6694851cfc44c6a60c393a65a23d2e4baaba291b7197d5f4"
   }
  }
 },
 "nbformat": 4,
 "nbformat_minor": 2
}
