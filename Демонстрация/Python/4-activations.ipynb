{
 "cells": [
  {
   "cell_type": "code",
   "execution_count": 1,
   "metadata": {},
   "outputs": [],
   "source": [
    "import numpy as np\n",
    "import torch\n"
   ]
  },
  {
   "cell_type": "code",
   "execution_count": 2,
   "metadata": {},
   "outputs": [],
   "source": [
    "# Общий вид реализации функций активации\n",
    "def sigmoid(x: torch.float32) -> torch.float32:\n",
    "    \"\"\"Функция для вычисления прямого прохода\"\"\"\n",
    "    pass\n",
    "\n",
    "def d_sigmoid(x: torch.float32, y: torch.float32) -> torch.float32:\n",
    "    \"\"\"Функция для вычисления обратного прохода\"\"\"\n",
    "    pass"
   ]
  },
  {
   "cell_type": "code",
   "execution_count": 3,
   "metadata": {},
   "outputs": [],
   "source": [
    "import math\n",
    "\n",
    "class Sigmoid(object):\n",
    "    def __init__(self, a: float):\n",
    "        self.a = a\n",
    "        self.y = None\n",
    "        self.dydx = None\n",
    "        self.F = np.vectorize(self.forward)\n",
    "\n",
    "    def __call__(self, x):\n",
    "        \"\"\"Функция для вычисления прямого прохода\"\"\"\n",
    "        self.y = self.F(x)\n",
    "        self.dydx = self.D()\n",
    "        return self.y\n",
    "\n",
    "    def forward(self, x):\n",
    "        y = 1/(1+math.exp(-x*self.a))\n",
    "        return y\n",
    "\n",
    "    def __D__(self):\n",
    "        \"\"\"Функция для вычисления обратного прохода\"\"\"\n",
    "        # assert self.y is not None, \"значение y не вычислено\"\n",
    "        return self.y*(1-self.y)\n"
   ]
  },
  {
   "cell_type": "code",
   "execution_count": 13,
   "metadata": {},
   "outputs": [
    {
     "name": "stdout",
     "output_type": "stream",
     "text": [
      "[1. 1.]\n",
      "[0. 0.]\n"
     ]
    }
   ],
   "source": [
    "# Вычисление значения функции и её производной в точке a\n",
    "f = Sigmoid(1)\n",
    "a = np.array([1,1]) \n",
    "print(f(a))\n",
    "print(f.D())"
   ]
  },
  {
   "cell_type": "code",
   "execution_count": 14,
   "metadata": {},
   "outputs": [
    {
     "name": "stdout",
     "output_type": "stream",
     "text": [
      "x1=[0 0 0]\n",
      "x1.W1=[0 0 0]\n",
      "sigmoid(x1.W1)=[0.5 0.5 0.5]\n",
      "Dy/Dx=[0.25 0.25 0.25]\n"
     ]
    }
   ],
   "source": [
    "# Простая нейросеть с одним слоем весов и нелинейной функцией активации\n",
    "W1 = np.array(\n",
    "[\n",
    "    [0, 1, 2],\n",
    "    [3, 2, 1],\n",
    "    [2, 1,-2]\n",
    "])\n",
    "x1 = np.array([0,0,0])\n",
    "z = np.dot(x1,W1)\n",
    "print(f\"x1={x1}\")\n",
    "print(f\"x1.W1={z}\")\n",
    "y1 = f(z)\n",
    "dydx = f.D()\n",
    "print(f\"sigmoid(x1.W1)={y1}\")\n",
    "print(f\"Dy/Dx={dydx}\")"
   ]
  },
  {
   "cell_type": "code",
   "execution_count": 15,
   "metadata": {},
   "outputs": [
    {
     "name": "stdout",
     "output_type": "stream",
     "text": [
      "f2(y1.W2)=[0.18242552 0.73105858]\n"
     ]
    }
   ],
   "source": [
    "\n",
    "W2 = np.array([\n",
    "    [-2, 0],\n",
    "    [1,  1],\n",
    "    [-2, 1]\n",
    "])\n",
    "f2 = Sigmoid(1)\n",
    "y2 = f2(np.dot(y1,W2))\n",
    "print(f\"f2(y1.W2)={y2}\")"
   ]
  },
  {
   "cell_type": "code",
   "execution_count": 16,
   "metadata": {},
   "outputs": [
    {
     "name": "stdout",
     "output_type": "stream",
     "text": [
      "f(y1.W2)=[0.16110895 0.70056714]\n"
     ]
    }
   ],
   "source": [
    "W2 = W2 - 0.1\n",
    "y2 = f2(np.dot(y1,W2))\n",
    "print(f\"f(y1.W2)={y2}\")"
   ]
  },
  {
   "cell_type": "code",
   "execution_count": 11,
   "metadata": {},
   "outputs": [
    {
     "data": {
      "text/plain": [
       "0.11561612979987267"
      ]
     },
     "execution_count": 11,
     "metadata": {},
     "output_type": "execute_result"
    }
   ],
   "source": [
    "target = np.array([0.0, 1.0])\n",
    "error = np.sum(np.square(target-y2))\n"
   ]
  }
 ],
 "metadata": {
  "kernelspec": {
   "display_name": "Python 3.8.3 64-bit",
   "language": "python",
   "name": "python3"
  },
  "language_info": {
   "codemirror_mode": {
    "name": "ipython",
    "version": 3
   },
   "file_extension": ".py",
   "mimetype": "text/x-python",
   "name": "python",
   "nbconvert_exporter": "python",
   "pygments_lexer": "ipython3",
   "version": "3.8.3"
  },
  "orig_nbformat": 4,
  "vscode": {
   "interpreter": {
    "hash": "9271dc942db219bb6694851cfc44c6a60c393a65a23d2e4baaba291b7197d5f4"
   }
  }
 },
 "nbformat": 4,
 "nbformat_minor": 2
}
