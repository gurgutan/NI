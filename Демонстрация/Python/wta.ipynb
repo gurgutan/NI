{
 "cells": [
  {
   "cell_type": "code",
   "execution_count": 1,
   "metadata": {},
   "outputs": [],
   "source": [
    "import numpy as np\n",
    "import math"
   ]
  },
  {
   "cell_type": "code",
   "execution_count": 2,
   "metadata": {},
   "outputs": [
    {
     "name": "stdout",
     "output_type": "stream",
     "text": [
      " x=[0.68827153 0.16268854]\n",
      " w=[0.41429678 0.90335977]\n",
      " y=0.43211496700290675\n"
     ]
    }
   ],
   "source": [
    "x = np.random.rand(2)\n",
    "w = np.random.rand(2)\n",
    "y = np.dot(x,w)\n",
    "print(f\" x={x}\\n w={w}\\n y={y}\")"
   ]
  },
  {
   "cell_type": "code",
   "execution_count": 3,
   "metadata": {},
   "outputs": [],
   "source": [
    "def get_angle(x, w):\n",
    "    w_norm = np.sqrt(np.dot(w, w))\n",
    "    x_norm = np.sqrt(np.dot(x, x))\n",
    "    # Угол в градусах\n",
    "    angle = math.acos(np.dot(w,x)/(w_norm*x_norm))/math.pi*180\n",
    "    return angle"
   ]
  },
  {
   "cell_type": "code",
   "execution_count": 4,
   "metadata": {},
   "outputs": [
    {
     "name": "stdout",
     "output_type": "stream",
     "text": [
      "Угол между x и w: 0.0\n"
     ]
    }
   ],
   "source": [
    "w = np.array([1.,0.])\n",
    "x = np.array([3.,0.])\n",
    "# Отношение двух векторов, как косинус угла между ними\n",
    "angle = get_angle(w, x)\n",
    "print(f\"Угол между x и w: {angle}\")\n"
   ]
  },
  {
   "cell_type": "code",
   "execution_count": 5,
   "metadata": {},
   "outputs": [
    {
     "name": "stdout",
     "output_type": "stream",
     "text": [
      "Координаты:\n",
      " x=\n",
      "[[6.14798767 6.65058796]\n",
      " [5.44812611 8.31495431]]\n",
      "\n",
      " Веса синапсов: w=[9.2682421 6.3072889]\n"
     ]
    }
   ],
   "source": [
    "count = 2\n",
    "x = np.random.rand(count*2).reshape((count,2))*10\n",
    "w = np.random.rand(2)*10\n",
    "print(f\"Координаты:\\n x=\\n{x}\\n\\n Веса синапсов: w={w}\")\n"
   ]
  },
  {
   "cell_type": "code",
   "execution_count": 6,
   "metadata": {},
   "outputs": [
    {
     "name": "stdout",
     "output_type": "stream",
     "text": [
      "x=\n",
      "[[85.32846996  1.8047225 ]\n",
      " [30.18342158 50.95615136]\n",
      " [99.73042433 63.02143297]\n",
      " [99.14962472 47.53482258]\n",
      " [53.75849892 13.72573134]\n",
      " [75.01991041 11.84661881]\n",
      " [ 1.32217472 89.25006889]\n",
      " [ 1.74288656 46.77537522]\n",
      " [79.00312388 81.02940258]\n",
      " [25.53147918 27.66401596]\n",
      " [53.89800187 89.70035142]\n",
      " [22.30261963 41.87634516]\n",
      " [41.74037355 73.33441081]\n",
      " [ 6.84014291 89.96473914]\n",
      " [ 8.59765646 65.51607842]\n",
      " [74.92123235 44.75218407]\n",
      " [25.39776593 86.48888179]\n",
      " [21.51923011 59.69792603]\n",
      " [62.18356581 51.3004736 ]\n",
      " [15.36493589 10.00578393]\n",
      " [86.41532585 22.00790852]\n",
      " [42.05380427 42.41338493]\n",
      " [16.77608683 84.44614234]\n",
      " [10.77526795 40.87381494]\n",
      " [12.96567246 15.50583422]\n",
      " [12.29264175 52.70355136]\n",
      " [73.42835317 16.12375914]\n",
      " [13.67035263 30.66135365]\n",
      " [45.99072622 22.15949812]\n",
      " [93.68106077 78.13413259]\n",
      " [14.51279635 29.11036413]\n",
      " [19.42306478 79.85708365]] \n",
      "\n",
      " w=[[57.94155357 93.97177513]\n",
      " [97.03105317 30.9339686 ]\n",
      " [19.46999307 61.29950068]\n",
      " [49.7864966  75.51483896]]\n"
     ]
    }
   ],
   "source": [
    "# Сделаем несколько кластеров данных - clusters\n",
    "count = 32      # Количество векторов в выборке\n",
    "clusters = 4    # Количество кластеров\n",
    "size = 2        # Размерность вектора данных\n",
    "x = 100.0*(np.random.rand(count*size).reshape((count, size)))\n",
    "w = 100.0*(np.random.rand(clusters*size).reshape((clusters, size)))\n",
    "print(f\"x=\\n{x} \\n\\n w={w}\")\n"
   ]
  },
  {
   "cell_type": "code",
   "execution_count": 7,
   "metadata": {},
   "outputs": [
    {
     "name": "stdout",
     "output_type": "stream",
     "text": [
      "0 distance=[349.53343119 531.79268622 392.50814072 349.22453593]\n",
      "1 distance=[349.30842514 471.61070558 365.72060308 348.98509091]\n",
      "2 distance=[349.07577983 425.40002023 352.07272155 348.76529544]\n",
      "3 distance=[348.85330756 397.04934593 349.20418798 348.57472092]\n",
      "4 distance=[348.65378309 378.55633933 348.8342833  348.41670664]\n",
      "5 distance=[348.48381024 368.25510429 348.57017735 348.29012017]\n",
      "6 distance=[348.34473416 360.43526952 348.38153718 348.19132125]\n",
      "7 distance=[348.23441405 355.07476397 348.24651639 348.11570231]\n",
      "8 distance=[348.14893718 351.80139878 348.14963494 348.05865883]\n",
      "9 distance=[348.08386502 350.21865571 348.07996015 348.01608621]\n",
      "10 distance=[348.03497023 349.10165944 348.02975532 347.98456236]\n",
      "11 distance=[347.99858378 348.66787601 347.99352433 347.96135376]\n",
      "12 distance=[347.97169696 348.41887953 347.96734683 347.94433867]\n",
      "13 distance=[347.95193239 348.23798088 347.94841623 347.93190239]\n",
      "14 distance=[347.93745828 348.10663407 347.93471716 347.92283296]\n",
      "15 distance=[347.9268877  348.01130625 347.92479897 347.91622958]\n",
      "16 distance=[347.91918338 347.94214102 347.91761554 347.91142736]\n",
      "17 distance=[347.9135763  347.89196905 347.91241142 347.90793799]\n",
      "18 distance=[347.90949988 347.87773073 347.90864049 347.90540412]\n",
      "19 distance=[347.90653854 347.88348897 347.90590768 347.90356494]\n",
      "20 distance=[347.90438847 347.88766874 347.90392698 347.90223042]\n",
      "21 distance=[347.90282804 347.89070171 347.90249131 347.90126232]\n",
      "22 distance=[347.90169588 347.89290198 347.90145062 347.90056015]\n",
      "23 distance=[347.90087463 347.89449788 347.90069622 347.90005092]\n",
      "24 distance=[347.900279   347.89565527 347.90014934 347.89968165]\n",
      "25 distance=[347.89984705 347.89649457 347.89975288 347.89941389]\n",
      "26 distance=[347.89953383 347.89710315 347.89946547 347.89921975]\n",
      "27 distance=[347.89930671 347.89754441 347.89925711 347.89907898]\n",
      "28 distance=[347.89914204 347.89786435 347.89910605 347.89897693]\n",
      "29 distance=[347.89902264 347.89809632 347.89899654 347.89890293]\n",
      "30 distance=[347.89893608 347.8982645  347.89891715 347.89884929]\n",
      "31 distance=[347.89887332 347.89838643 347.89885959 347.8988104 ]\n"
     ]
    }
   ],
   "source": [
    "# Теперь средний угол между центром кластера и векторами выборки\n",
    "angle = np.zeros(clusters, dtype=np.float64)\n",
    "dist = np.zeros(clusters, dtype=np.float64)\n",
    "for i in range(32):\n",
    "    # цикл по всем кластерам\n",
    "    for c in range(clusters):\n",
    "        dist[c] = 0\n",
    "        angle[c] = 0\n",
    "        # цикл по всем входным примерам\n",
    "        for j in range(count):\n",
    "            w[c] = w[c] + 0.01 * np.add(x[j],-w[c])\n",
    "            dist[c] += np.sqrt(np.sum(np.power(x[j]-w[c],2)))\n",
    "            angle[c] += get_angle(w[c], x[j])\n",
    "        dist[c] /= count\n",
    "        angle[c] /= size\n",
    "    print(f\"{i} distance={angle}\")\n",
    "\n",
    "# Из-за того что все векторы весов меняются одинаково быстро - все они приходят к центру тяжести всего набора точек"
   ]
  },
  {
   "cell_type": "code",
   "execution_count": 18,
   "metadata": {},
   "outputs": [
    {
     "name": "stdout",
     "output_type": "stream",
     "text": [
      "x=[[-35.75027201 -67.47102272]\n",
      " [-27.66026498  24.39423206]\n",
      " [-12.60645248 -42.81000337]\n",
      " [ -7.92876053  47.6541944 ]\n",
      " [ 59.26200741 -22.04940998]\n",
      " [-12.63716913  60.73098656]\n",
      " [-79.31796003  57.19175756]\n",
      " [-97.37802735 -44.64251455]] \n",
      "\n",
      " w=[[-11.99298127 -39.44682751]\n",
      " [ 16.26187907 -92.27106975]\n",
      " [-52.29777811 -98.78313004]\n",
      " [-83.22646373  86.58124469]]\n",
      "\n",
      "x=[[-35.75027201 -67.47102272]\n",
      " [-27.66026498  24.39423206]\n",
      " [-12.60645248 -42.81000337]\n",
      " [ -7.92876053  47.6541944 ]\n",
      " [ 59.26200741 -22.04940998]\n",
      " [-12.63716913  60.73098656]\n",
      " [-79.31796003  57.19175756]\n",
      " [-97.37802735 -44.64251455]] \n",
      "\n",
      " w=[[-11.99331303 -39.44864631]\n",
      " [ 16.26187907 -92.27106975]\n",
      " [-52.29777811 -98.78313004]\n",
      " [-83.22646373  86.58124469]]\n",
      "\n"
     ]
    }
   ],
   "source": [
    "# Сделаем несколько кластеров данных - clusters\n",
    "count = 8      # Количество векторов в выборке\n",
    "clusters = 4    # Количество кластеров\n",
    "size = 2        # Размерность вектора данных\n",
    "iter_count = 64\n",
    "x = 100.0*(np.random.rand(count*size).reshape((count, size))*2-1)\n",
    "w = 100.0*(np.random.rand(clusters*size).reshape((clusters, size))*2-1)\n",
    "print(f\"x={x} \\n\\n w={w}\\n\")\n",
    "angle = np.zeros(clusters, dtype=np.float64)\n",
    "for i in range(iter_count):\n",
    "    # цикл по всем кластерам\n",
    "    d = np.zeros(clusters, dtype=np.float64)\n",
    "    for c in range(clusters):\n",
    "        # angle[c] = 0\n",
    "        # цикл по всем \n",
    "        for j in range(count):\n",
    "            dist = np.linalg.norm(x[j]-w[c])\n",
    "            alpha =np.exp(-(dist*dist))\n",
    "            w[c] = w[c] + alpha * np.add(x[j], -w[c]) \n",
    "            angle[c] += get_angle(w[c], x[j])\n",
    "            d[c] += dist\n",
    "        d[c] /= count\n",
    "        angle[c] /= count\n",
    "    # print(f\"{i} a={angle} d={d}\")\n",
    "print(f\"x={x} \\n\\n w={w}\\n\")"
   ]
  },
  {
   "cell_type": "code",
   "execution_count": 9,
   "metadata": {},
   "outputs": [
    {
     "name": "stdout",
     "output_type": "stream",
     "text": [
      "\n",
      "\n",
      " w=[[ 59.72707853 -38.71062722]\n",
      " [ 57.35334968  52.86806676]\n",
      " [ 20.50080775 -78.12074891]\n",
      " [  8.15288324  10.54190384]]\n",
      "\n"
     ]
    }
   ],
   "source": [
    "print(f\"\\n\\n w={w}\\n\")"
   ]
  },
  {
   "cell_type": "code",
   "execution_count": 10,
   "metadata": {},
   "outputs": [],
   "source": [
    "# Функция сигмоиды\n",
    "def sigmoid(z):\n",
    "    z = 1/(1+np.exp(-z))\n",
    "    return z"
   ]
  },
  {
   "cell_type": "code",
   "execution_count": 11,
   "metadata": {},
   "outputs": [
    {
     "name": "stdout",
     "output_type": "stream",
     "text": [
      "x=[0.99553942 0.70240485] \n",
      " y=[ 32.27012903  94.23230696 -34.46303043  15.52120103] \n",
      " w=[[ 59.72707853 -38.71062722]\n",
      " [ 57.35334968  52.86806676]\n",
      " [ 20.50080775 -78.12074891]\n",
      " [  8.15288324  10.54190384]]\n"
     ]
    }
   ],
   "source": [
    "# Выход сети для\n",
    "f = np.vectorize(sigmoid)\n",
    "x0 = np.random.rand(size).reshape((size))\n",
    "y = np.zeros(clusters, dtype=np.float64)\n",
    "for c in range(clusters):\n",
    "    y[c] = np.dot(x0, w[c])\n",
    "print(f\"x={x0} \\n y={y} \\n w={w}\")\n"
   ]
  },
  {
   "cell_type": "code",
   "execution_count": 19,
   "metadata": {},
   "outputs": [
    {
     "name": "stdout",
     "output_type": "stream",
     "text": [
      "outputs=[0. 1. 0. 0.]\n"
     ]
    }
   ],
   "source": [
    "outputs = np.zeros(y.shape[0], dtype=np.float64)\n",
    "outputs[np.argmax(y)] = 1.0\n",
    "print(f\"outputs={outputs}\")"
   ]
  },
  {
   "cell_type": "code",
   "execution_count": 20,
   "metadata": {},
   "outputs": [],
   "source": [
    "def softmax(x):\n",
    "    exp = np.exp(x)\n",
    "    e_x = exp / np.sum(exp)\n",
    "    return e_x"
   ]
  },
  {
   "cell_type": "code",
   "execution_count": 14,
   "metadata": {},
   "outputs": [
    {
     "name": "stdout",
     "output_type": "stream",
     "text": [
      "x=[0.70581672 0.1087992 ]\n",
      "y=[37.94468554 46.23295684  5.97033782  6.90139206]\n",
      "softmax(y)=[2.51385556e-04 9.99748614e-01 3.26631109e-18 8.28722754e-18] \n",
      " sum(softmax(x))=1.0\n"
     ]
    }
   ],
   "source": [
    "# Выход сети для\n",
    "f = np.vectorize(sigmoid)\n",
    "# softmax_v = np.vectorize(softmax)\n",
    "x0 = np.random.rand(size).reshape((size))\n",
    "y = np.zeros(clusters, dtype=np.float64)\n",
    "for c in range(clusters):\n",
    "    y[c] = np.dot(w[c], x0)\n",
    "print(f\"x={x0}\")\n",
    "print(f\"y={y}\")\n",
    "s = softmax(y)\n",
    "print(f\"softmax(y)={s} \\n sum(softmax(x))={np.sum(s)}\")"
   ]
  },
  {
   "cell_type": "code",
   "execution_count": 22,
   "metadata": {},
   "outputs": [
    {
     "name": "stdout",
     "output_type": "stream",
     "text": [
      "Распределение вероятности: [0.04192238 0.11395685 0.00208719 0.84203357]\n"
     ]
    }
   ],
   "source": [
    "vector=np.array([2.0, 3.0, -1, 5])\n",
    "exp=np.exp(vector)\n",
    "probability=exp/np.sum(exp)\n",
    "print(\"Распределение вероятности:\",probability)"
   ]
  },
  {
   "cell_type": "code",
   "execution_count": 16,
   "metadata": {},
   "outputs": [],
   "source": [
    "import torch\n",
    "import torch.nn as nn"
   ]
  },
  {
   "cell_type": "code",
   "execution_count": 17,
   "metadata": {},
   "outputs": [
    {
     "name": "stdout",
     "output_type": "stream",
     "text": [
      "tensor([[0.2703, 0.3905, 0.3392],\n",
      "        [0.0770, 0.5405, 0.3826]])\n",
      "tensor([1., 1.])\n"
     ]
    }
   ],
   "source": [
    "m = nn.Softmax(dim=1)\n",
    "input = torch.randn(2, 3)\n",
    "output = m(input)\n",
    "print(output)\n",
    "print(output.sum(dim=1))\n",
    "\n"
   ]
  }
 ],
 "metadata": {
  "kernelspec": {
   "display_name": "Python 3.8.3 64-bit",
   "language": "python",
   "name": "python3"
  },
  "language_info": {
   "codemirror_mode": {
    "name": "ipython",
    "version": 3
   },
   "file_extension": ".py",
   "mimetype": "text/x-python",
   "name": "python",
   "nbconvert_exporter": "python",
   "pygments_lexer": "ipython3",
   "version": "3.8.3"
  },
  "orig_nbformat": 4,
  "vscode": {
   "interpreter": {
    "hash": "9271dc942db219bb6694851cfc44c6a60c393a65a23d2e4baaba291b7197d5f4"
   }
  }
 },
 "nbformat": 4,
 "nbformat_minor": 2
}
