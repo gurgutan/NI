{
 "cells": [
  {
   "cell_type": "code",
   "execution_count": 1,
   "metadata": {},
   "outputs": [],
   "source": [
    "# Оригинал https://russianblogs.com/article/2953745632/\n",
    "import numpy as np\n",
    "import random\n",
    "from PIL import Image\n",
    "import os\n",
    "import re\n",
    "import matplotlib.pyplot as plt\n",
    "\n"
   ]
  },
  {
   "cell_type": "code",
   "execution_count": 2,
   "metadata": {},
   "outputs": [],
   "source": [
    "def readImg2array(file,size, threshold= 145):\n",
    "    #file is jpg or jpeg pictures\n",
    "    #size is a 1*2 vector,eg (40,40)\n",
    "    pilIN = Image.open(file).convert(mode=\"L\")\n",
    "    pilIN= pilIN.resize(size)\n",
    "    #pilIN.thumbnail(size,Image.ANTIALIAS)\n",
    "    imgArray = np.asarray(pilIN,dtype=np.uint8)\n",
    "    x = np.zeros(imgArray.shape,dtype=np.float)\n",
    "    x[imgArray > threshold] = 1\n",
    "    x[x==0] = -1\n",
    "    return x"
   ]
  },
  {
   "cell_type": "code",
   "execution_count": 3,
   "metadata": {},
   "outputs": [],
   "source": [
    "def array2img(data, outFile = None):\n",
    "\n",
    "    #data is 1 or -1 matrix\n",
    "    y = np.zeros(data.shape,dtype=np.uint8)\n",
    "    y[data==1] = 255\n",
    "    y[data==-1] = 0\n",
    "    img = Image.fromarray(y,mode=\"L\")\n",
    "    if outFile is not None:\n",
    "        img.save(outFile)\n",
    "    return img\n",
    "\n"
   ]
  },
  {
   "cell_type": "code",
   "execution_count": 4,
   "metadata": {},
   "outputs": [],
   "source": [
    "def mat2vec(x):\n",
    "    #x is a matrix\n",
    "    m = x.shape[0]*x.shape[1]\n",
    "    tmp1 = np.zeros(m)\n",
    "\n",
    "    c = 0\n",
    "    for i in range(x.shape[0]):\n",
    "        for j in range(x.shape[1]):\n",
    "            tmp1[c] = x[i,j]\n",
    "            c +=1\n",
    "    return tmp1\n"
   ]
  },
  {
   "cell_type": "code",
   "execution_count": 5,
   "metadata": {},
   "outputs": [],
   "source": [
    "#use Hebbian rule create weight matrix\n",
    "def create_W_single_pattern(x):\n",
    "    # x is a vector\n",
    "    if len(x.shape) != 1:\n",
    "        print (\"The input is not vector\")\n",
    "        return\n",
    "    else:\n",
    "        w = np.zeros([len(x),len(x)])\n",
    "        for i in range(len(x)):\n",
    "            for j in range(i,len(x)):\n",
    "                if i == j:\n",
    "                    w[i,j] = 0\n",
    "                else:\n",
    "                    w[i,j] = x[i]*x[j]\n",
    "                    w[j,i] = w[i,j]\n",
    "    return w"
   ]
  },
  {
   "cell_type": "code",
   "execution_count": 6,
   "metadata": {},
   "outputs": [],
   "source": [
    "#randomly update\n",
    "def update_asynch(weight,vector,theta=0.5,times=100):\n",
    "    energy_ = []\n",
    "    times_ = []\n",
    "    energy_.append(energy(weight,vector))\n",
    "    times_.append(0)\n",
    "    for i in range(times):\n",
    "        length = len(vector)\n",
    "        update_num = random.randint(0,length-1)\n",
    "        next_time_value = np.dot(weight[update_num][:],vector) - theta\n",
    "        if next_time_value>=0:\n",
    "            vector[update_num] = 1\n",
    "        if next_time_value<0:\n",
    "            vector[update_num] = -1\n",
    "        times_.append(i)\n",
    "        energy_.append(energy(weight,vector))\n",
    "    \n",
    "    return (vector,times_,energy_)             \n"
   ]
  },
  {
   "cell_type": "code",
   "execution_count": 7,
   "metadata": {},
   "outputs": [],
   "source": [
    "def energy(weight,x,bias=0):\n",
    "#weight: m*m weight matrix\n",
    "#x: 1*m data vector\n",
    "#bias: outer field\n",
    "    energy = -x.dot(weight).dot(x.T)+sum(bias*x)\n",
    "    # E is a scalar\n",
    "    return energy\n"
   ]
  },
  {
   "cell_type": "code",
   "execution_count": 8,
   "metadata": {},
   "outputs": [
    {
     "data": {
      "image/png": "[encoded data removed]",
      "text/plain": [
       "<Figure size 432x288 with 1 Axes>"
      ]
     },
     "metadata": {
      "needs_background": "light"
     },
     "output_type": "display_data"
    },
    {
     "name": "stdout",
     "output_type": "stream",
     "text": [
      "weight matrix is prepared!!!!!\n"
     ]
    }
   ],
   "source": [
    "#main \n",
    "#import training picture\n",
    "size_global =(80,80)\n",
    "threshold_global = 60\n",
    "\n",
    "train_paths = []\n",
    "train_path = \"pictures/\"\n",
    "# for i in os.listdir(train_path):\n",
    "#     if re.match(r'[0-9 a-z A-Z-_]*.jp[e]*g',i):\n",
    "#         train_paths.append(train_path+i)\n",
    "train_paths.append(train_path+\"1.png\")\n",
    "flag = 0\n",
    "w_ = 0\n",
    "for path in train_paths:\n",
    "    matrix_train = readImg2array(path,size = size_global,threshold=threshold_global)\n",
    "    vector_train = mat2vec(matrix_train)\n",
    "    plt.imshow(array2img(matrix_train))\n",
    "    plt.title(\"train picture\"+str(flag+1))\n",
    "    plt.show()\n",
    "    if flag == 0:\n",
    "        w_ = create_W_single_pattern(vector_train)\n",
    "        flag = flag +1\n",
    "    else:\n",
    "        w_ = w_ +create_W_single_pattern(vector_train)\n",
    "        flag = flag +1\n",
    "\n",
    "w_ = w_/flag\n",
    "print(\"weight matrix is prepared!!!!!\")\n",
    "    \n",
    "\n",
    "    \n"
   ]
  },
  {
   "cell_type": "code",
   "execution_count": 9,
   "metadata": {},
   "outputs": [
    {
     "data": {
      "image/png": "[encoded data removed]",
      "text/plain": [
       "<Figure size 432x288 with 1 Axes>"
      ]
     },
     "metadata": {
      "needs_background": "light"
     },
     "output_type": "display_data"
    }
   ],
   "source": [
    "## import test data\n",
    "test_paths = []\n",
    "test_paths.append(train_path+\"1.png\")\n",
    "# for i in os.listdir(test_path):\n",
    "#     if re.match(r'[0-9 a-z A-Z-_]*.jp[e]*g',i):\n",
    "#         test_paths.append(test_path+i)\n",
    "num = 0\n",
    "for path in test_paths:\n",
    "    num = num+1\n",
    "    matrix_test = readImg2array(path,size = size_global,threshold=threshold_global)\n",
    "    vector_test = mat2vec(matrix_test)\n",
    "    plt.subplot(221)\n",
    "    plt.imshow(array2img(matrix_test))\n",
    "    plt.title(\"test picture\"+str(num))\n"
   ]
  }
 ],
 "metadata": {
  "kernelspec": {
   "display_name": "Python 3.8.3 64-bit",
   "language": "python",
   "name": "python3"
  },
  "language_info": {
   "codemirror_mode": {
    "name": "ipython",
    "version": 3
   },
   "file_extension": ".py",
   "mimetype": "text/x-python",
   "name": "python",
   "nbconvert_exporter": "python",
   "pygments_lexer": "ipython3",
   "version": "3.8.3"
  },
  "orig_nbformat": 4,
  "vscode": {
   "interpreter": {
    "hash": "9271dc942db219bb6694851cfc44c6a60c393a65a23d2e4baaba291b7197d5f4"
   }
  }
 },
 "nbformat": 4,
 "nbformat_minor": 2
}
