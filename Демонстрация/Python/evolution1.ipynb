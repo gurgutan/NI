{
 "cells": [
  {
   "cell_type": "code",
   "execution_count": 1,
   "metadata": {},
   "outputs": [
    {
     "data": {
      "text/plain": [
       "13"
      ]
     },
     "execution_count": 1,
     "metadata": {},
     "output_type": "execute_result"
    }
   ],
   "source": [
    "from random import choice, random\n",
    "\n",
    "# Словарь - полный набор генов\n",
    "charset = (\n",
    "    \"абвгдеёжзийкламнопрстуфхцчшщэьъюяАБВГДЕЁЖЗИЙКЛМНОПРСТУФХЦЧШЩЬЪЭЮЯ -0123456789\"\n",
    ")\n",
    "\n",
    "# Образец для сравнения\n",
    "target = list(\"сдать экзамен\")\n",
    "length = len(target)\n",
    "\n",
    "# Случайный выбор базовой цепочки\n",
    "parent = [choice(charset) for _ in range(length)]\n",
    "minmutaterate = 0.02\n",
    "poprange = range(100)\n",
    "len(parent)"
   ]
  },
  {
   "cell_type": "code",
   "execution_count": 2,
   "metadata": {},
   "outputs": [],
   "source": [
    "perfectfitness = float(length)\n",
    "\n",
    "def fitness(trial):\n",
    "    \"Сумма совпадений символов\"\n",
    "    return sum(t == h for t, h in zip(trial, target))\n",
    "\n",
    "\n",
    "def mutaterate():\n",
    "    \"Чем ближе соответствие родителю, тем меньше mutaterate\"\n",
    "    return 1 - (\n",
    "        (perfectfitness - fitness(parent)) / perfectfitness * (1 - minmutaterate)\n",
    "    )\n",
    "\n",
    "\n",
    "def mutate(parent, rate):\n",
    "    \"\"\"Случайное изменение символа в случайной позиции\"\"\"\n",
    "    return [(ch if random() <= rate else choice(charset)) for ch in parent]\n",
    "\n",
    "\n",
    "def que(iterations, copies):\n",
    "    \"\"\"Вывод на экран популяции и лучшего\"\"\"\n",
    "    print(\n",
    "        \"#%-4i fitness: %4.1f%%, '%s'\"\n",
    "        % (iterations, fitness(parent) * 100.0 / perfectfitness, \"\".join(parent))\n",
    "    )\n",
    "    print(\" \", end=\" \")\n",
    "    [print(f\"{i}:'\" + \"\".join(copies[i]), end=\"'  \") for i in range(4)]\n",
    "    print(' ...')\n",
    "\n",
    "\n",
    "def mate(a, b):\n",
    "    place = 0\n",
    "    if choice(range(10)) < 5:\n",
    "        place = choice(range(len(target)))\n",
    "    else:\n",
    "        return a, b\n",
    "\n",
    "    return a, b, a[:place] + b[place:], b[:place] + a[place:]\n"
   ]
  },
  {
   "cell_type": "code",
   "execution_count": 3,
   "metadata": {},
   "outputs": [
    {
     "name": "stdout",
     "output_type": "stream",
     "text": [
      "#10   fitness: 38.5%, 'саЗС8 фк6пмеЁ'\n",
      "  0:'саЗСхРф8эареГ'  1:'саЗ0Ш фдэЮмеЕ'  2:'саЗЕхСфУэБсеш'  3:'сРССхэхмлрмеэ'   ...\n",
      "#20   fitness: 53.8%, 'сЕаКи я0замеЯ'\n",
      "  0:'ЮЕаУд эИзжмеД'  1:'с5аьр МюМЧмхК'  2:'соЗКд 68МЧ2КК'  3:'шоУКд ъМзЧн9К'   ...\n",
      "#30   fitness: 53.8%, 'сУаа4 Ц1замеД'\n",
      "  0:'сона УЦюзЮйет'  1:'сУНШйэЦОБжмэЙ'  2:'Й8ааКЦ 1ЧрмЭД'  3:'сжшаД Н1замеД'   ...\n",
      "#40   fitness: 69.2%, 'сУамч экзамещ'\n",
      "  0:'саамч эк6пм4щ'  1:'сУамчеБдзаёеп'  2:'рУамч экзамещ'  3:'ьУамчОэкпамещ'   ...\n",
      "#50   fitness: 69.2%, 'сЦапА экзамеЮ'\n",
      "  0:'с1апА экзаГеЮ'  1:'сэаФАёэк8аВ8Ю'  2:'с1чпА Лвза9еЮ'  3:'с1ВпА э6за-еЩ'   ...\n",
      "#60   fitness: 76.9%, 'сеаха экзамен'\n",
      "  0:'цЧ2Пюлэкзамен'  1:'сеаха экзамен'  2:'кЧухю экзамен'  3:'сЧЁхШёэЗзамен'   ...\n",
      "#70   fitness: 76.9%, 'сЙат5 экзаман'\n",
      "  0:'сЙат5 экзаман'  1:'сФат5рэкзаман'  2:'саат5 эТЬаман'  3:'саат54экРамЮн'   ...\n",
      "#80   fitness: 76.9%, 'саат2 экзаммн'\n",
      "  0:'са7т2 экзаЪмн'  1:'сЮРт2Тэкзаммн'  2:'саат2 экз1ямн'  3:'саст2оЪкУамжн'   ...\n",
      "#90   fitness: 92.3%, 'сдать экзам5н'\n",
      "  0:'сдать экзам5н'  1:'тлатУ экзам5н'  2:'сдаИь экзам5н'  3:'сдать экзам5н'   ...\n",
      "#100  fitness: 92.3%, 'сдать экзам5н'\n",
      "  0:'сдоть экщам5н'  1:'сдё5Ж экзам5н'  2:'сда4ь экзам5н'  3:'с5ать экзам5н'   ...\n",
      "#110  fitness: 92.3%, 'сдать экзам5н'\n",
      "  0:'сд8ть эВзЁм5ш'  1:'сдать экзам5н'  2:'с5ать экзам5н'  3:'сдЕтьрэклам5н'   ...\n",
      "#120  fitness: 92.3%, 'сдать экзам5н'\n",
      "  0:'сдатШ экзам5н'  1:'сдатьФэкзам5н'  2:'ссать экзам5н'  3:'сэать экзаАьн'   ...\n",
      "#130  fitness: 92.3%, 'сдать экзам5н'\n",
      "  0:'сдатьаэкзам5н'  1:'сдать экзам5н'  2:'сдать экзам5н'  3:'сдаШь экзам5ц'   ...\n",
      "#140  fitness: 92.3%, 'сдать экзам5н'\n",
      "  0:'сдать экеам5О'  1:'сдать экзам5н'  2:'сдатьвэкзам5н'  3:'сдзть экзам5н'   ...\n",
      "#141  fitness: 100.0%, 'сдать экзамен'\n",
      "  0:'сдать экзам5н'  1:'сдать экзам5н'  2:'сдать экзам5н'  3:'сдать экзам5н'   ...\n",
      "Результат: 'сдать экзамен' = 'сдать экзамен'\n"
     ]
    }
   ],
   "source": [
    "# Образец для сравнения\n",
    "target = list(\"сдать экзамен\")\n",
    "length = len(target)\n",
    "\n",
    "# Случайный выбор базовой цепочки\n",
    "parent = [choice(charset) for _ in range(length)]\n",
    "minmutaterate = 0.02\n",
    "poprange = range(100)\n",
    "\n",
    "\n",
    "copies = []\n",
    "iterations = 0\n",
    "center = len(poprange) // 2\n",
    "while parent != target:\n",
    "    # Определяем велючину мутаций\n",
    "    rate = mutaterate()\n",
    "    iterations += 1\n",
    "    if iterations % 10 == 0: que(iterations, copies)\n",
    "    # Создаем новую популяцию, с помощью мутаций\n",
    "    copies = [mutate(parent, rate) for _ in poprange] + [parent]\n",
    "    # выбираем родителя 1\n",
    "    parent1 = max(copies[:center], key=fitness)\n",
    "    # выбираем родителя 2\n",
    "    parent2 = max(copies[center:], key=fitness)\n",
    "    # Новый \"папа\"\n",
    "    parent = max(mate(parent1, parent2), key=fitness)\n",
    "que(iterations, copies)\n",
    "print(f\"Результат: '{''.join(parent)}' = '{''.join(target)}'\")"
   ]
  }
 ],
 "metadata": {
  "kernelspec": {
   "display_name": "Python 3.8.3 64-bit",
   "language": "python",
   "name": "python3"
  },
  "language_info": {
   "codemirror_mode": {
    "name": "ipython",
    "version": 3
   },
   "file_extension": ".py",
   "mimetype": "text/x-python",
   "name": "python",
   "nbconvert_exporter": "python",
   "pygments_lexer": "ipython3",
   "version": "3.8.3"
  },
  "orig_nbformat": 4,
  "vscode": {
   "interpreter": {
    "hash": "9271dc942db219bb6694851cfc44c6a60c393a65a23d2e4baaba291b7197d5f4"
   }
  }
 },
 "nbformat": 4,
 "nbformat_minor": 2
}
