{
 "cells": [
  {
   "cell_type": "code",
   "execution_count": 5,
   "metadata": {},
   "outputs": [],
   "source": [
    "import numpy as np\n",
    "import tensorflow as tf\n",
    "from tensorflow.keras.layers import *\n",
    "import matplotlib.pyplot as plt"
   ]
  },
  {
   "cell_type": "code",
   "execution_count": 6,
   "metadata": {},
   "outputs": [
    {
     "name": "stdout",
     "output_type": "stream",
     "text": [
      "Epoch 1/64\n",
      "32/32 [==============================] - 1s 7ms/step - loss: 0.7039\n",
      "Epoch 2/64\n",
      "32/32 [==============================] - 0s 6ms/step - loss: 0.6936\n",
      "Epoch 3/64\n",
      "32/32 [==============================] - 0s 6ms/step - loss: 0.6930\n",
      "Epoch 4/64\n",
      "32/32 [==============================] - 0s 7ms/step - loss: 0.6937\n",
      "Epoch 5/64\n",
      "32/32 [==============================] - 0s 6ms/step - loss: 0.6930\n",
      "Epoch 6/64\n",
      "32/32 [==============================] - 0s 6ms/step - loss: 0.6937\n",
      "Epoch 7/64\n",
      "32/32 [==============================] - 0s 6ms/step - loss: 0.6929\n",
      "Epoch 8/64\n",
      "32/32 [==============================] - 0s 6ms/step - loss: 0.6935\n",
      "Epoch 9/64\n",
      "32/32 [==============================] - 0s 6ms/step - loss: 0.6933\n",
      "Epoch 10/64\n",
      "32/32 [==============================] - 0s 6ms/step - loss: 0.6938\n",
      "Epoch 11/64\n",
      "32/32 [==============================] - 0s 6ms/step - loss: 0.6934\n",
      "Epoch 12/64\n",
      "32/32 [==============================] - 0s 6ms/step - loss: 0.6933\n",
      "Epoch 13/64\n",
      "32/32 [==============================] - 0s 6ms/step - loss: 0.6932\n",
      "Epoch 14/64\n",
      "32/32 [==============================] - 0s 6ms/step - loss: 0.6936\n",
      "Epoch 15/64\n",
      "32/32 [==============================] - 0s 7ms/step - loss: 0.6934\n",
      "Epoch 16/64\n",
      "32/32 [==============================] - 0s 5ms/step - loss: 0.6933\n",
      "Epoch 17/64\n",
      "32/32 [==============================] - 0s 5ms/step - loss: 0.6934\n",
      "Epoch 18/64\n",
      "32/32 [==============================] - 0s 6ms/step - loss: 0.6937\n",
      "Epoch 19/64\n",
      "32/32 [==============================] - 0s 6ms/step - loss: 0.6933\n",
      "Epoch 20/64\n",
      "32/32 [==============================] - 0s 6ms/step - loss: 0.6935\n",
      "Epoch 21/64\n",
      "32/32 [==============================] - 0s 6ms/step - loss: 0.6936\n",
      "Epoch 22/64\n",
      "32/32 [==============================] - 0s 6ms/step - loss: 0.6933\n",
      "Epoch 23/64\n",
      "32/32 [==============================] - 0s 6ms/step - loss: 0.6936\n",
      "Epoch 24/64\n",
      "32/32 [==============================] - 0s 5ms/step - loss: 0.6933\n",
      "Epoch 25/64\n",
      "32/32 [==============================] - 0s 6ms/step - loss: 0.6933\n",
      "Epoch 26/64\n",
      "32/32 [==============================] - 0s 6ms/step - loss: 0.6933\n",
      "Epoch 27/64\n",
      "32/32 [==============================] - 0s 6ms/step - loss: 0.6935\n",
      "Epoch 28/64\n",
      "32/32 [==============================] - 0s 6ms/step - loss: 0.6933\n",
      "Epoch 29/64\n",
      "32/32 [==============================] - 0s 6ms/step - loss: 0.6933\n",
      "Epoch 30/64\n",
      "32/32 [==============================] - 0s 6ms/step - loss: 0.6936\n",
      "Epoch 31/64\n",
      "32/32 [==============================] - 0s 6ms/step - loss: 0.6935\n",
      "Epoch 32/64\n",
      "32/32 [==============================] - 0s 6ms/step - loss: 0.6935\n",
      "Epoch 33/64\n",
      "32/32 [==============================] - 0s 6ms/step - loss: 0.6932\n",
      "Epoch 34/64\n",
      "32/32 [==============================] - 0s 5ms/step - loss: 0.6937\n",
      "Epoch 35/64\n",
      "32/32 [==============================] - ETA: 0s - loss: 0.693 - 0s 6ms/step - loss: 0.6933\n",
      "Epoch 36/64\n",
      "32/32 [==============================] - 0s 6ms/step - loss: 0.6939\n",
      "Epoch 37/64\n",
      "32/32 [==============================] - 0s 6ms/step - loss: 0.6933\n",
      "Epoch 38/64\n",
      "32/32 [==============================] - 0s 8ms/step - loss: 0.6934\n",
      "Epoch 39/64\n",
      "32/32 [==============================] - 0s 5ms/step - loss: 0.6932\n",
      "Epoch 40/64\n",
      "32/32 [==============================] - 0s 6ms/step - loss: 0.6935\n",
      "Epoch 41/64\n",
      "32/32 [==============================] - 0s 6ms/step - loss: 0.6936\n",
      "Epoch 42/64\n",
      "32/32 [==============================] - 0s 6ms/step - loss: 0.6933\n",
      "Epoch 43/64\n",
      "32/32 [==============================] - 0s 6ms/step - loss: 0.6932\n",
      "Epoch 44/64\n",
      "32/32 [==============================] - 0s 6ms/step - loss: 0.6935\n",
      "Epoch 45/64\n",
      "32/32 [==============================] - 0s 6ms/step - loss: 0.6934\n",
      "Epoch 46/64\n",
      "32/32 [==============================] - 0s 5ms/step - loss: 0.6931\n",
      "Epoch 47/64\n",
      "32/32 [==============================] - 0s 5ms/step - loss: 0.6932\n",
      "Epoch 48/64\n",
      "32/32 [==============================] - 0s 6ms/step - loss: 0.6935\n",
      "Epoch 49/64\n",
      "32/32 [==============================] - 0s 6ms/step - loss: 0.6937\n",
      "Epoch 50/64\n",
      "32/32 [==============================] - 0s 5ms/step - loss: 0.6938\n",
      "Epoch 51/64\n",
      "32/32 [==============================] - 0s 6ms/step - loss: 0.6932\n",
      "Epoch 52/64\n",
      "32/32 [==============================] - 0s 5ms/step - loss: 0.6939\n",
      "Epoch 53/64\n",
      "32/32 [==============================] - 0s 6ms/step - loss: 0.6937\n",
      "Epoch 54/64\n",
      "32/32 [==============================] - 0s 6ms/step - loss: 0.6933\n",
      "Epoch 55/64\n",
      "32/32 [==============================] - 0s 6ms/step - loss: 0.6934\n",
      "Epoch 56/64\n",
      "32/32 [==============================] - 0s 6ms/step - loss: 0.6934\n",
      "Epoch 57/64\n",
      "32/32 [==============================] - 0s 6ms/step - loss: 0.6936\n",
      "Epoch 58/64\n",
      "32/32 [==============================] - 0s 6ms/step - loss: 0.6936\n",
      "Epoch 59/64\n",
      "32/32 [==============================] - 0s 6ms/step - loss: 0.6935\n",
      "Epoch 60/64\n",
      "32/32 [==============================] - 0s 6ms/step - loss: 0.6933\n",
      "Epoch 61/64\n",
      "32/32 [==============================] - 0s 6ms/step - loss: 0.6935\n",
      "Epoch 62/64\n",
      "32/32 [==============================] - 0s 6ms/step - loss: 0.6933\n",
      "Epoch 63/64\n",
      "32/32 [==============================] - 0s 6ms/step - loss: 0.6935\n",
      "Epoch 64/64\n",
      "32/32 [==============================] - 0s 5ms/step - loss: 0.6933\n"
     ]
    },
    {
     "data": {
      "image/png": "[encoded data removed]",
      "text/plain": [
       "<Figure size 432x288 with 1 Axes>"
      ]
     },
     "metadata": {
      "needs_background": "light"
     },
     "output_type": "display_data"
    }
   ],
   "source": [
    "num_classes = 8\n",
    "input_shape = (2,)\n",
    "samples = 1024\n",
    "\n",
    "model = tf.keras.Sequential(\n",
    "      [InputLayer(input_shape=input_shape)]\n",
    "    + [Dense(num_classes)]\n",
    "    + [Softmax()]\n",
    "    + [Dense(16, activation=tf.nn.sigmoid)]\n",
    "    + [Dense(1, activation=tf.nn.sigmoid)]\n",
    ")\n",
    "\n",
    "fit_rate = 0.1\n",
    "fit_epochs = 32\n",
    "\n",
    "model.compile(\n",
    "    optimizer=tf.keras.optimizers.SGD(learning_rate=fit_rate), loss=\"binary_crossentropy\"\n",
    ")\n",
    "\n",
    "\n",
    "x = np.random.rand(samples*input_shape[0]).reshape(samples, input_shape[0])\n",
    "y = np.random.rand(samples)\n",
    "\n",
    "\n",
    "history = model.fit(x, y, epochs=64, verbose=1)\n",
    "plt.plot(history.history[\"loss\"])\n",
    "plt.show()"
   ]
  },
  {
   "cell_type": "code",
   "execution_count": 7,
   "metadata": {},
   "outputs": [
    {
     "ename": "AttributeError",
     "evalue": "module 'tensorflow._api.v2.nn' has no attribute 'Softmax'",
     "output_type": "error",
     "traceback": [
      "\u001b[1;31m---------------------------------------------------------------------------\u001b[0m",
      "\u001b[1;31mAttributeError\u001b[0m                            Traceback (most recent call last)",
      "\u001b[1;32m<ipython-input-7-9021336144ca>\u001b[0m in \u001b[0;36m<module>\u001b[1;34m\u001b[0m\n\u001b[1;32m----> 1\u001b[1;33m \u001b[0mm\u001b[0m \u001b[1;33m=\u001b[0m \u001b[0mtf\u001b[0m\u001b[1;33m.\u001b[0m\u001b[0mnn\u001b[0m\u001b[1;33m.\u001b[0m\u001b[0mSoftmax\u001b[0m\u001b[1;33m(\u001b[0m\u001b[0mdim\u001b[0m\u001b[1;33m=\u001b[0m\u001b[1;36m1\u001b[0m\u001b[1;33m)\u001b[0m\u001b[1;33m\u001b[0m\u001b[1;33m\u001b[0m\u001b[0m\n\u001b[0m\u001b[0;32m      2\u001b[0m \u001b[0minput\u001b[0m \u001b[1;33m=\u001b[0m \u001b[0mtf\u001b[0m\u001b[1;33m.\u001b[0m\u001b[0mnn\u001b[0m\u001b[1;33m.\u001b[0m\u001b[0mrandn\u001b[0m\u001b[1;33m(\u001b[0m\u001b[1;36m2\u001b[0m\u001b[1;33m,\u001b[0m \u001b[1;36m3\u001b[0m\u001b[1;33m)\u001b[0m\u001b[1;33m\u001b[0m\u001b[1;33m\u001b[0m\u001b[0m\n\u001b[0;32m      3\u001b[0m \u001b[0moutput\u001b[0m \u001b[1;33m=\u001b[0m \u001b[0mm\u001b[0m\u001b[1;33m(\u001b[0m\u001b[0minput\u001b[0m\u001b[1;33m)\u001b[0m\u001b[1;33m\u001b[0m\u001b[1;33m\u001b[0m\u001b[0m\n",
      "\u001b[1;31mAttributeError\u001b[0m: module 'tensorflow._api.v2.nn' has no attribute 'Softmax'"
     ]
    }
   ],
   "source": [
    "m = tf.nn.Softmax(dim=1)\n",
    "input = tf.nn.randn(2, 3)\n",
    "output = m(input)"
   ]
  }
 ],
 "metadata": {
  "kernelspec": {
   "display_name": "Python 3.8.3 64-bit",
   "language": "python",
   "name": "python3"
  },
  "language_info": {
   "codemirror_mode": {
    "name": "ipython",
    "version": 3
   },
   "file_extension": ".py",
   "mimetype": "text/x-python",
   "name": "python",
   "nbconvert_exporter": "python",
   "pygments_lexer": "ipython3",
   "version": "3.8.3"
  },
  "orig_nbformat": 4,
  "vscode": {
   "interpreter": {
    "hash": "9271dc942db219bb6694851cfc44c6a60c393a65a23d2e4baaba291b7197d5f4"
   }
  }
 },
 "nbformat": 4,
 "nbformat_minor": 2
}
