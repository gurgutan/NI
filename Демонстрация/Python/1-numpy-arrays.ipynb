{
 "cells": [
  {
   "cell_type": "markdown",
   "metadata": {},
   "source": [
    "# Работа с тензорами в numpy\n",
    "### https://numpy.org/\n",
    "### Быстрый старт: https://numpy.org/devdocs/user/quickstart.html"
   ]
  },
  {
   "cell_type": "code",
   "execution_count": 2,
   "metadata": {},
   "outputs": [
    {
     "name": "stdout",
     "output_type": "stream",
     "text": [
      "[1 2 3 4]\n"
     ]
    }
   ],
   "source": [
    "import numpy as np\n",
    "a = np.array([1,2,3,4])\n",
    "print(a)"
   ]
  },
  {
   "cell_type": "code",
   "execution_count": 3,
   "metadata": {},
   "outputs": [
    {
     "name": "stdout",
     "output_type": "stream",
     "text": [
      "[0 1 2 3]\n"
     ]
    }
   ],
   "source": [
    "b = np.array([0,1,2,3])\n",
    "print(b)"
   ]
  },
  {
   "cell_type": "code",
   "execution_count": 4,
   "metadata": {},
   "outputs": [
    {
     "name": "stdout",
     "output_type": "stream",
     "text": [
      "a*b=[ 0  2  6 12]\n",
      "a+b=[1 3 5 7]\n"
     ]
    }
   ],
   "source": [
    "print(f\"a*b={a*b}\")\n",
    "print(f\"a+b={a+b}\")"
   ]
  },
  {
   "cell_type": "code",
   "execution_count": 5,
   "metadata": {},
   "outputs": [
    {
     "data": {
      "text/plain": [
       "20.0"
      ]
     },
     "execution_count": 5,
     "metadata": {},
     "output_type": "execute_result"
    }
   ],
   "source": [
    "# Сакалярное произведение\n",
    "def dot(x, y):\n",
    "    y_sum = 0.0\n",
    "    for i in range(len(x)):\n",
    "        y_sum = y_sum + x[i]*y[i]\n",
    "    return y_sum\n",
    "\n",
    "dot(a, b)"
   ]
  },
  {
   "cell_type": "code",
   "execution_count": 6,
   "metadata": {},
   "outputs": [
    {
     "name": "stdout",
     "output_type": "stream",
     "text": [
      "20\n",
      "20\n"
     ]
    }
   ],
   "source": [
    "print(np.dot(a,b))\n",
    "print(np.sum(a*b))"
   ]
  },
  {
   "cell_type": "code",
   "execution_count": 7,
   "metadata": {},
   "outputs": [
    {
     "data": {
      "text/plain": [
       "array([30, 40])"
      ]
     },
     "execution_count": 7,
     "metadata": {},
     "output_type": "execute_result"
    }
   ],
   "source": [
    "# Еще одно скалярное произведение\n",
    "c = np.array([[1,2,3,4], [2,3,4,5]])\n",
    "np.dot(c,a)"
   ]
  },
  {
   "cell_type": "code",
   "execution_count": 8,
   "metadata": {},
   "outputs": [
    {
     "name": "stdout",
     "output_type": "stream",
     "text": [
      "5.477225575051661\n",
      "5.477225575051661\n",
      "10.0\n"
     ]
    }
   ],
   "source": [
    "# Норма вектора\n",
    "print(np.sqrt(np.dot(a, a)))\n",
    "\n",
    "# https://numpy.org/doc/stable/reference/generated/numpy.linalg.norm.html\n",
    "print(np.linalg.norm(a))\n",
    "\n",
    "# Норма L1: max(sum(abs(x), axis=0))\n",
    "print(np.linalg.norm(a, 1))\n"
   ]
  },
  {
   "cell_type": "code",
   "execution_count": 9,
   "metadata": {},
   "outputs": [
    {
     "name": "stdout",
     "output_type": "stream",
     "text": [
      "e_dist(a, b) = 2.0\n",
      "m_dist(a, b) = 4.0\n"
     ]
    }
   ],
   "source": [
    "# Евклидова метрика\n",
    "def e_dist(x: np.array, y: np.array) -> float:\n",
    "     return np.linalg.norm(x - y)\n",
    "\n",
    "# Манхэттенская метрика\n",
    "def m_dist(x: np.array, y: np.array) -> float:\n",
    "    return np.linalg.norm(x - y, 1)\n",
    "\n",
    "print(f\"e_dist(a, b) = {e_dist(a, b)}\")\n",
    "print(f\"m_dist(a, b) = {m_dist(a, b)}\")"
   ]
  },
  {
   "cell_type": "code",
   "execution_count": 10,
   "metadata": {},
   "outputs": [
    {
     "name": "stdout",
     "output_type": "stream",
     "text": [
      "basis=\n",
      "[[1. 0. 0. 0.]\n",
      " [0. 1. 0. 0.]\n",
      " [0. 0. 1. 0.]\n",
      " [0. 0. 0. 1.]]\n",
      "--------------------------------\n",
      "[[1. 0. 0. 0.]\n",
      " [0. 1. 0. 0.]\n",
      " [0. 0. 1. 0.]\n",
      " [0. 0. 0. 1.]] * 2=\n",
      "[[2. 0. 0. 0.]\n",
      " [0. 2. 0. 0.]\n",
      " [0. 0. 2. 0.]\n",
      " [0. 0. 0. 2.]]\n",
      "--------------------------------\n",
      "[[1. 0. 0. 0.]\n",
      " [0. 1. 0. 0.]\n",
      " [0. 0. 1. 0.]\n",
      " [0. 0. 0. 1.]] * [1 2 3 4]=\n",
      "[[1. 0. 0. 0.]\n",
      " [0. 2. 0. 0.]\n",
      " [0. 0. 3. 0.]\n",
      " [0. 0. 0. 4.]]\n",
      "--------------------------------\n"
     ]
    }
   ],
   "source": [
    "# Единичная матрица, она же - ортонормированный базис в Евклидовом пространстве\n",
    "basis = np.eye(4, 4)\n",
    "print(f\"basis=\\n{basis}\\n\"+\"-\"*32)\n",
    "print(f\"{basis} * 2=\\n{basis*2}\\n\"+\"-\"*32)\n",
    "v = np.arange(1, 5)\n",
    "print(f\"{basis} * {v}=\\n{basis*v}\\n\"+\"-\"*32)"
   ]
  },
  {
   "cell_type": "code",
   "execution_count": 11,
   "metadata": {},
   "outputs": [
    {
     "data": {
      "text/plain": [
       "(array([[ 0,  1,  2,  3,  4,  5,  6,  7],\n",
       "        [ 8,  9, 10, 11, 12, 13, 14, 15],\n",
       "        [16, 17, 18, 19, 20, 21, 22, 23],\n",
       "        [24, 25, 26, 27, 28, 29, 30, 31]]),\n",
       " array([[ 1,  2,  3,  4],\n",
       "        [ 5,  6,  7,  8],\n",
       "        [ 9, 10, 11, 12],\n",
       "        [13, 14, 15, 16],\n",
       "        [17, 18, 19, 20],\n",
       "        [21, 22, 23, 24],\n",
       "        [25, 26, 27, 28],\n",
       "        [29, 30, 31, 32]]),\n",
       " array([[ 0,  1,  2,  3],\n",
       "        [ 4,  5,  6,  7],\n",
       "        [ 8,  9, 10, 11],\n",
       "        [12, 13, 14, 15]]))"
      ]
     },
     "execution_count": 11,
     "metadata": {},
     "output_type": "execute_result"
    }
   ],
   "source": [
    "# Матрицы\n",
    "A = np.arange(0, 32).reshape((4, 8))\n",
    "B = np.arange(1, 33).reshape((8, 4))\n",
    "C = np.arange(0, 16).reshape((4, 4))\n",
    "A, B, C\n"
   ]
  },
  {
   "cell_type": "code",
   "execution_count": 12,
   "metadata": {},
   "outputs": [
    {
     "name": "stdout",
     "output_type": "stream",
     "text": [
      "[[ 15680  18200  20720  23240]\n",
      " [ 42304  49048  55792  62536]\n",
      " [ 68928  79896  90864 101832]\n",
      " [ 95552 110744 125936 141128]]\n"
     ]
    }
   ],
   "source": [
    "# Умножение матриц\n",
    "print(A @ (B @ C))\n",
    "# E = A @ B\n",
    "# D = B @ C\n",
    "# E @ C\n",
    "# A @ D\n",
    "\n"
   ]
  },
  {
   "cell_type": "code",
   "execution_count": 13,
   "metadata": {},
   "outputs": [
    {
     "data": {
      "text/plain": [
       "array([[ 840,  868,  896,  924,  952,  980],\n",
       "       [2184, 2276, 2368, 2460, 2552, 2644],\n",
       "       [3528, 3684, 3840, 3996, 4152, 4308],\n",
       "       [4872, 5092, 5312, 5532, 5752, 5972]])"
      ]
     },
     "execution_count": 13,
     "metadata": {},
     "output_type": "execute_result"
    }
   ],
   "source": [
    "n = 8\n",
    "m = 6\n",
    "C = np.arange(0, n*m).reshape((n, m))\n",
    "A @ C"
   ]
  },
  {
   "cell_type": "code",
   "execution_count": 19,
   "metadata": {},
   "outputs": [
    {
     "name": "stdout",
     "output_type": "stream",
     "text": [
      "M=\n",
      "[[1. 0. 0. 0.]\n",
      " [0. 1. 0. 0.]\n",
      " [0. 0. 1. 0.]\n",
      " [0. 0. 0. 1.]]\n",
      "\n",
      "Обратный порядок: M[[3, 2, 1, 0]]=\n",
      "[[0. 0. 0. 1.]\n",
      " [0. 0. 1. 0.]\n",
      " [0. 1. 0. 0.]\n",
      " [1. 0. 0. 0.]]\n",
      "\n",
      "1-й к 2-му, 2-й к 1-му: M[[1, 0, 2, 3]]=\n",
      "[[0. 1. 0. 0.]\n",
      " [1. 0. 0. 0.]\n",
      " [0. 0. 1. 0.]\n",
      " [0. 0. 0. 1.]]\n"
     ]
    }
   ],
   "source": [
    "# Соединение выходов элемента со входами\n",
    "size = 4\n",
    "# Единичная матрица соединяет элементы 1:1 без изменения порядка\n",
    "M = np.eye(size)\n",
    "print(f\"M=\\n{M}\\n\")\n",
    "\n",
    "# Изменение порядка может быть сделано перестановкой столбцов матрицы\n",
    "permute1 = [3, 2, 1, 0]\n",
    "print(f\"Обратный порядок: M[{permute1}]=\\n{M[:, permute1]}\\n\")\n",
    "\n",
    "permute2 = [1, 0, 2, 3]\n",
    "print(f\"1-й к 2-му, 2-й к 1-му: M[{permute2}]=\\n{M[:, permute2]}\")\n"
   ]
  },
  {
   "cell_type": "code",
   "execution_count": 23,
   "metadata": {},
   "outputs": [
    {
     "name": "stdout",
     "output_type": "stream",
     "text": [
      "y1=[4 5 6 7]\n",
      "y1.M1=[7. 6. 5. 4.]\n",
      "\n",
      "y1=[4 5 6 7]\n",
      "y1.M2=[5. 4. 6. 7.]\n"
     ]
    }
   ],
   "source": [
    "# При умножении на матрицу перестановок изменяется порядок элементов в векторе\n",
    "size = 4\n",
    "y1 = np.arange(4, 4+size)\n",
    "M1 = M[:, permute1]\n",
    "print(f\"y1={y1}\")\n",
    "print(f\"y1.M1={y1 @ M1}\\n\")\n",
    "\n",
    "M2 = M[:, permute2]\n",
    "print(f\"y1={y1}\")\n",
    "print(f\"y1.M2={y1 @ M2}\")"
   ]
  },
  {
   "cell_type": "code",
   "execution_count": 25,
   "metadata": {},
   "outputs": [
    {
     "name": "stdout",
     "output_type": "stream",
     "text": [
      "M3=[[1. 0. 0. 0.]\n",
      " [0. 1. 0. 0.]\n",
      " [0. 0. 1. 0.]\n",
      " [0. 0. 0. 0.]]\n",
      "y1.M3=[4. 5. 6. 0.]\n"
     ]
    }
   ],
   "source": [
    "# Обнуление одного из выходов - нулевая строка в матрице связей\n",
    "M3 = M * np.array([1, 1, 1, 0])\n",
    "print(f'M3={M3}')\n",
    "print(f'y1.M3={y1 @ M3}')\n"
   ]
  },
  {
   "cell_type": "code",
   "execution_count": 30,
   "metadata": {},
   "outputs": [
    {
     "name": "stdout",
     "output_type": "stream",
     "text": [
      "[  0   1   2   3   4   5   6   7   8   9  10  11  12  13  14  15  16  17\n",
      "  18  19  20  21  22  23  24  25  26  27  28  29  30  31  32  33  34  35\n",
      "  36  37  38  39  40  41  42  43  44  45  46  47  48  49  50  51  52  53\n",
      "  54  55  56  57  58  59  60  61  62  63  64  65  66  67  68  69  70  71\n",
      "  72  73  74  75  76  77  78  79  80  81  82  83  84  85  86  87  88  89\n",
      "  90  91  92  93  94  95  96  97  98  99 100 101 102 103 104 105 106 107\n",
      " 108 109 110 111 112 113 114 115 116 117 118 119]\n"
     ]
    },
    {
     "data": {
      "text/plain": [
       "(120,)"
      ]
     },
     "execution_count": 30,
     "metadata": {},
     "output_type": "execute_result"
    }
   ],
   "source": [
    "M4 = np.arange(0, 2*5*3*4).reshape(2, 5, 3, 4)\n",
    "# print(M4)\n",
    "print(M4.flatten())\n",
    "M4.flatten().shape\n",
    "\n"
   ]
  }
 ],
 "metadata": {
  "kernelspec": {
   "display_name": "Python 3.8.3 64-bit",
   "language": "python",
   "name": "python3"
  },
  "language_info": {
   "codemirror_mode": {
    "name": "ipython",
    "version": 3
   },
   "file_extension": ".py",
   "mimetype": "text/x-python",
   "name": "python",
   "nbconvert_exporter": "python",
   "pygments_lexer": "ipython3",
   "version": "3.8.3"
  },
  "orig_nbformat": 2,
  "vscode": {
   "interpreter": {
    "hash": "9271dc942db219bb6694851cfc44c6a60c393a65a23d2e4baaba291b7197d5f4"
   }
  }
 },
 "nbformat": 4,
 "nbformat_minor": 2
}
