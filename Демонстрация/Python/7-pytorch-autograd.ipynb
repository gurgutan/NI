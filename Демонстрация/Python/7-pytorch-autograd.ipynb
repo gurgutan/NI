{
 "cells": [
  {
   "cell_type": "code",
   "execution_count": 1,
   "metadata": {},
   "outputs": [],
   "source": [
    "import numpy as np\n",
    "import math"
   ]
  },
  {
   "cell_type": "code",
   "execution_count": 2,
   "metadata": {},
   "outputs": [
    {
     "name": "stdout",
     "output_type": "stream",
     "text": [
      "y=[-1.22464680e-16 -3.14315906e-03 -6.28628707e-03 ...  6.28628707e-03\n",
      "  3.14315906e-03  1.22464680e-16],\n",
      "x=[-3.14159265 -3.13844949 -3.13530633 ...  3.13530633  3.13844949\n",
      "  3.14159265]\n",
      "(2000,) (2000,)\n"
     ]
    }
   ],
   "source": [
    "# Создадим случайные данные\n",
    "x = np.linspace(-math.pi, math.pi, 2000)\n",
    "y = np.sin(x)\n",
    "print(f\"y={y},\\nx={x}\")\n",
    "print(y.shape, x.shape)\n"
   ]
  },
  {
   "cell_type": "code",
   "execution_count": 3,
   "metadata": {},
   "outputs": [
    {
     "data": {
      "text/plain": [
       "(-1.6682603145302481,\n",
       " -1.3821995266044695,\n",
       " 1.346843894453367,\n",
       " 1.0261764083100433)"
      ]
     },
     "execution_count": 3,
     "metadata": {},
     "output_type": "execute_result"
    }
   ],
   "source": [
    "# Случайные значения\n",
    "a = np.random.randn()\n",
    "b = np.random.randn()\n",
    "c = np.random.randn()\n",
    "d = np.random.randn()\n",
    "a, b, c, d"
   ]
  },
  {
   "cell_type": "code",
   "execution_count": 4,
   "metadata": {},
   "outputs": [
    {
     "name": "stdout",
     "output_type": "stream",
     "text": [
      "99 3.0134792785911313\n",
      "199 2.0440790847694505\n",
      "299 1.3884691923160573\n",
      "399 0.9446190027158672\n",
      "499 0.643814312571547\n",
      "599 0.4397351451260953\n",
      "699 0.30112776325135804\n",
      "799 0.2068835957944298\n",
      "899 0.14273179070820532\n",
      "999 0.09901438640010682\n",
      "1099 0.06918840907159815\n",
      "1199 0.04881646567780154\n",
      "1299 0.034885885495847875\n",
      "1399 0.02534902840484159\n",
      "1499 0.018812609368810698\n",
      "1599 0.014327519881720038\n",
      "1699 0.011246490027728855\n",
      "1799 0.009127591662984394\n",
      "1899 0.007668748611397705\n",
      "1999 0.006663241765073898\n",
      "Result: y = -0.058126124133386685 + 0.8191706711024689 x + 0.010027723635889732 x^2 + -0.08798635924161516 x^3\n"
     ]
    }
   ],
   "source": [
    "learning_rate = 1e-6\n",
    "for t in range(2000):\n",
    "    # Вычисление y по x\n",
    "    # y = a + b x + c x^2 + d x^3\n",
    "    y_pred = a + b * x + c * x ** 2 + d * x ** 3\n",
    "\n",
    "    # Вычисление средней ошибки\n",
    "    n = len(y)\n",
    "    loss = np.square(y_pred - y).sum() / n\n",
    "    if t % 100 == 99:\n",
    "        print(t, loss)\n",
    "\n",
    "    # Backprop to compute gradients of a, b, c, d with respect to loss\n",
    "    grad_y_pred = 2.0 * (y_pred - y)\n",
    "    grad_a = grad_y_pred.sum()\n",
    "    grad_b = (grad_y_pred * x).sum()\n",
    "    grad_c = (grad_y_pred * x ** 2).sum()\n",
    "    grad_d = (grad_y_pred * x ** 3).sum()\n",
    "\n",
    "    # Update weights\n",
    "    a -= learning_rate * grad_a\n",
    "    b -= learning_rate * grad_b\n",
    "    c -= learning_rate * grad_c\n",
    "    d -= learning_rate * grad_d\n",
    "\n",
    "print(f'Result: y = {a} + {b} x + {c} x^2 + {d} x^3')"
   ]
  }
 ],
 "metadata": {
  "kernelspec": {
   "display_name": "Python 3.8.3 64-bit",
   "language": "python",
   "name": "python3"
  },
  "language_info": {
   "codemirror_mode": {
    "name": "ipython",
    "version": 3
   },
   "file_extension": ".py",
   "mimetype": "text/x-python",
   "name": "python",
   "nbconvert_exporter": "python",
   "pygments_lexer": "ipython3",
   "version": "3.8.3"
  },
  "orig_nbformat": 4,
  "vscode": {
   "interpreter": {
    "hash": "9271dc942db219bb6694851cfc44c6a60c393a65a23d2e4baaba291b7197d5f4"
   }
  }
 },
 "nbformat": 4,
 "nbformat_minor": 2
}
